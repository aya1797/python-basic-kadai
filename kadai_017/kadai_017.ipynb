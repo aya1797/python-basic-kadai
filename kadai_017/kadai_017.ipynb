{
  "cells": [
    {
      "cell_type": "code",
      "execution_count": 5,
      "metadata": {
        "colab": {
          "base_uri": "https://localhost:8080/"
        },
        "id": "T8R1X2xVrddu",
        "outputId": "2335a1da-2ee1-405e-bbc2-18f70b1bfd83"
      },
      "outputs": [
        {
          "name": "stdout",
          "output_type": "stream",
          "text": [
            "侍太郎は大人です\n",
            "侍花子は大人ではないです\n"
          ]
        }
      ],
      "source": [
        "class Human:\n",
        "  def __init__(self, name, age):\n",
        "    self.name = name\n",
        "    self.age = age\n",
        "\n",
        "  def check_adult(self):\n",
        "        if self.age >= 20:\n",
        "            print(f\"{self.name}は大人です\")\n",
        "        else:\n",
        "            print(f\"{self.name}は大人ではないです\")\n",
        "\n",
        "man = Human(\"侍太郎\", 30)\n",
        "woman = Human(\"侍花子\", 18)\n",
        "\n",
        "human = [man, woman]\n",
        "\n",
        "for human in human:\n",
        "\n",
        " human.check_adult()"
      ]
    }
  ],
  "metadata": {
    "colab": {
      "provenance": []
    },
    "kernelspec": {
      "display_name": "Python 3",
      "name": "python3"
    },
    "language_info": {
      "name": "python"
    }
  },
  "nbformat": 4,
  "nbformat_minor": 0
}
