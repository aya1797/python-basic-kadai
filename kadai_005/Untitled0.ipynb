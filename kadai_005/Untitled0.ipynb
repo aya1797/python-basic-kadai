{
  "cells": [
    {
      "cell_type": "code",
      "execution_count": 4,
      "metadata": {
        "colab": {
          "base_uri": "https://localhost:8080/"
        },
        "id": "tt-ihuqmCMEA",
        "outputId": "c4af060a-7283-4828-8244-35b44867060a"
      },
      "outputs": [
        {
          "name": "stdout",
          "output_type": "stream",
          "text": [
            "75.0cm\n"
          ]
        }
      ],
      "source": [
        "top_line = 10\n",
        "under_line = 20\n",
        "hight_line = 5\n",
        "\n",
        "#公式\n",
        "area = (top_line + under_line) * hight_line / 2\n",
        "\n",
        "#結果\n",
        "print(str(area) + \"cm\")"
      ]
    }
  ],
  "metadata": {
    "colab": {
      "provenance": []
    },
    "kernelspec": {
      "display_name": "Python 3",
      "name": "python3"
    },
    "language_info": {
      "name": "python"
    }
  },
  "nbformat": 4,
  "nbformat_minor": 0
}
