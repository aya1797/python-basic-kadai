{
  "cells": [
    {
      "cell_type": "code",
      "execution_count": 7,
      "metadata": {
        "colab": {
          "base_uri": "https://localhost:8080/"
        },
        "id": "eelfSHSHAyXK",
        "outputId": "909d4059-b442-4f9a-d23a-41562e539b01"
      },
      "outputs": [
        {
          "name": "stdout",
          "output_type": "stream",
          "text": [
            "1100.0\n"
          ]
        }
      ],
      "source": [
        "def calculate_total (price,tax_rate):\n",
        "\n",
        " total = price * (1 + tax_rate)\n",
        " return total\n",
        "\n",
        "print(f\"{calculate_total(1000,0.1)}\")"
      ]
    }
  ],
  "metadata": {
    "colab": {
      "provenance": []
    },
    "kernelspec": {
      "display_name": "Python 3",
      "name": "python3"
    },
    "language_info": {
      "name": "python"
    }
  },
  "nbformat": 4,
  "nbformat_minor": 0
}
