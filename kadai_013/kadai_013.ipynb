{
  "cells": [
    {
      "cell_type": "code",
      "execution_count": 10,
      "metadata": {
        "colab": {
          "base_uri": "https://localhost:8080/"
        },
        "id": "7LHeheYzSEMQ",
        "outputId": "a162147a-b04a-4c41-9d7c-abe8b89f03fd"
      },
      "outputs": [
        {
          "name": "stdout",
          "output_type": "stream",
          "text": [
            "1100.0\n"
          ]
        }
      ],
      "source": [
        "def calculate_total (price):\n",
        "\n",
        " tax_rate = 0.10\n",
        " total = price * (1 + tax_rate)\n",
        " return total\n",
        "\n",
        "print(f\"{calculate_total(1000)}\")"
      ]
    }
  ],
  "metadata": {
    "colab": {
      "provenance": []
    },
    "kernelspec": {
      "display_name": "Python 3",
      "name": "python3"
    },
    "language_info": {
      "name": "python"
    }
  },
  "nbformat": 4,
  "nbformat_minor": 0
}
