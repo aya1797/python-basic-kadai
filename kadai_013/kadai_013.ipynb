{
  "cells": [
    {
      "cell_type": "code",
      "execution_count": 1,
      "metadata": {
        "colab": {
          "base_uri": "https://localhost:8080/"
        },
        "id": "-csGTWWtOUPM",
        "outputId": "60429bc6-e4a1-4ca0-d18e-534c4d96d0aa"
      },
      "outputs": [
        {
          "name": "stdout",
          "output_type": "stream",
          "text": [
            "1100.0円\n"
          ]
        }
      ],
      "source": [
        "def calculate_total(price):\n",
        "\n",
        "  total = price * 1.1\n",
        "  print(f\"{total}円\")\n",
        "\n",
        "calculate_total(1000)"
      ]
    }
  ],
  "metadata": {
    "colab": {
      "provenance": []
    },
    "kernelspec": {
      "display_name": "Python 3",
      "name": "python3"
    },
    "language_info": {
      "name": "python"
    }
  },
  "nbformat": 4,
  "nbformat_minor": 0
}
