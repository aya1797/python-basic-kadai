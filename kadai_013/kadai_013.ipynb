{
  "cells": [
    {
      "cell_type": "code",
      "execution_count": 1,
      "metadata": {
        "colab": {
          "base_uri": "https://localhost:8080/"
        },
        "id": "XisRrTKdmWrM",
        "outputId": "7f7d3874-2f38-4ac8-b35f-df7b07b08e37"
      },
      "outputs": [
        {
          "name": "stdout",
          "output_type": "stream",
          "text": [
            "1100.0\n"
          ]
        }
      ],
      "source": [
        "def calculate_total (price,tax_rate):\n",
        "\n",
        " tax_rate = 0.10\n",
        " total = price * (1 + tax_rate)\n",
        " return total\n",
        "\n",
        "print(f\"{calculate_total(1000,0.1)}\")\n"
      ]
    }
  ],
  "metadata": {
    "colab": {
      "provenance": []
    },
    "kernelspec": {
      "display_name": "Python 3",
      "name": "python3"
    },
    "language_info": {
      "name": "python"
    }
  },
  "nbformat": 4,
  "nbformat_minor": 0
}
