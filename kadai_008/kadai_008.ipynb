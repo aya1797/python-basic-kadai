{
  "cells": [
    {
      "cell_type": "code",
      "execution_count": 12,
      "metadata": {
        "colab": {
          "base_uri": "https://localhost:8080/"
        },
        "id": "OdgXxaRTPWqM",
        "outputId": "464fb710-3f08-4adf-cecb-6427d80aebf9"
      },
      "outputs": [
        {
          "name": "stdout",
          "output_type": "stream",
          "text": [
            "100\n",
            "Buzz\n",
            "100\n"
          ]
        }
      ],
      "source": [
        "num = 100\n",
        "\n",
        "# 変数varが、3の倍数の場合は「Fizz」を出力\n",
        "if num % 3 == 0:\n",
        "    print(\"Fizz\")\n",
        "else:\n",
        "    print(\"100\")\n",
        "\n",
        "# 変数varが、5の倍数の場合は「Buzz」を出力\n",
        "if num % 5 == 0:\n",
        "    print(\"Buzz\")\n",
        "else:\n",
        "    print(\"100\")\n",
        "\n",
        "# 変数varが、3の倍数と5の倍数の両方に該当する場合は「FizzBuzz」を出力\n",
        "if num % 3 == 0 and N % 5 == 0:\n",
        "    print(\"FizzBuzz\")\n",
        "else:\n",
        "    print(\"100\")"
      ]
    }
  ],
  "metadata": {
    "colab": {
      "provenance": []
    },
    "kernelspec": {
      "display_name": "Python 3",
      "name": "python3"
    },
    "language_info": {
      "name": "python"
    }
  },
  "nbformat": 4,
  "nbformat_minor": 0
}
