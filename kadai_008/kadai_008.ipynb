{
  "cells": [
    {
      "cell_type": "code",
      "execution_count": 9,
      "metadata": {
        "colab": {
          "base_uri": "https://localhost:8080/"
        },
        "id": "HWbcMG9oEuLL",
        "outputId": "df8a79ab-9795-4da9-86ff-aed91d8a7f98"
      },
      "outputs": [
        {
          "name": "stdout",
          "output_type": "stream",
          "text": [
            "80\n",
            "Buzz\n"
          ]
        }
      ],
      "source": [
        "#ランダムな整数を利用するために、randomモジュールをインポート\n",
        "import random\n",
        "\n",
        "# 変数numに0～100までのランダムな整数を代入する\n",
        "num = random.randint(0, 100)\n",
        "\n",
        "# 変数numの値を出力\n",
        "print(num)\n",
        "\n",
        "# 変数varが、3の倍数の場合は「Fizz」を出力\n",
        "if num % 3 == 0:\n",
        "    print(\"Fizz\")\n",
        "\n",
        "# 変数varが、5の倍数の場合は「Buzz」を出力\n",
        "elif num % 5 == 0:\n",
        "    print(\"Buzz\")\n",
        "\n",
        "# 変数varが、3の倍数と5の倍数の両方に該当する場合は「FizzBuzz」を出力\n",
        "elif num % 3 == 0 and N % 5 == 0:\n",
        "    print(\"FizzBuzz\")\n",
        "\n",
        "#上記のどの場合にも該当しない場合は、変数varの値を出力\n",
        "else: print(num)\n",
        "\n",
        "\n",
        "\n",
        "\n"
      ]
    }
  ],
  "metadata": {
    "colab": {
      "provenance": []
    },
    "kernelspec": {
      "display_name": "Python 3",
      "name": "python3"
    },
    "language_info": {
      "name": "python"
    }
  },
  "nbformat": 4,
  "nbformat_minor": 0
}
